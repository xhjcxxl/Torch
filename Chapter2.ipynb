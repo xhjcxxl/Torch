{
 "cells": [
  {
   "cell_type": "code",
   "execution_count": 29,
   "metadata": {},
   "outputs": [],
   "source": [
    "import spacy\n",
    "from nltk.tokenize import TweetTokenizer\n",
    "import numpy as np"
   ]
  },
  {
   "cell_type": "code",
   "execution_count": 10,
   "metadata": {},
   "outputs": [
    {
     "name": "stdout",
     "output_type": "stream",
     "text": [
      "['types']\n",
      "['are']\n",
      "[\"n't\"]\n",
      "['unique']\n",
      "['tokens']\n",
      "['present']\n",
      "['in']\n",
      "['a']\n",
      "['corpus']\n",
      "['.']\n"
     ]
    }
   ],
   "source": [
    "nlp = spacy.load('en_core_web_sm')\n",
    "text = \"Types aren't unique tokens present in a corpus.\"\n",
    "for token in nlp(text.lower()):\n",
    "    print([str(token)])"
   ]
  },
  {
   "cell_type": "code",
   "execution_count": 11,
   "metadata": {},
   "outputs": [
    {
     "name": "stdout",
     "output_type": "stream",
     "text": [
      "['Types']\n",
      "['are']\n",
      "[\"n't\"]\n",
      "['unique']\n",
      "['tokens']\n",
      "['present']\n",
      "['in']\n",
      "['a']\n",
      "['corpus']\n",
      "['.']\n"
     ]
    }
   ],
   "source": [
    "for token in nlp(text):\n",
    "    print([str(token)])"
   ]
  },
  {
   "cell_type": "code",
   "execution_count": 12,
   "metadata": {},
   "outputs": [
    {
     "name": "stdout",
     "output_type": "stream",
     "text": [
      "Types\n",
      "are\n",
      "n't\n",
      "unique\n",
      "tokens\n",
      "present\n",
      "in\n",
      "a\n",
      "corpus\n",
      ".\n"
     ]
    }
   ],
   "source": [
    "for token in nlp(text):\n",
    "    print(str(token))"
   ]
  },
  {
   "cell_type": "code",
   "execution_count": 16,
   "metadata": {},
   "outputs": [
    {
     "name": "stdout",
     "output_type": "stream",
     "text": [
      "Types\n",
      "are\n",
      "n't\n",
      "unique\n",
      "tokens\n",
      "present\n",
      "in\n",
      "a\n",
      "corpus\n",
      ".\n"
     ]
    }
   ],
   "source": [
    "for token in nlp(text):\n",
    "    print(token)"
   ]
  },
  {
   "cell_type": "code",
   "execution_count": 20,
   "metadata": {},
   "outputs": [
    {
     "name": "stdout",
     "output_type": "stream",
     "text": [
      "['snow', 'white', 'and', 'the', 'seven', 'degrees', '#makeamoviecold', '@midnight', ':-)']\n"
     ]
    }
   ],
   "source": [
    "tweet = u\"Snow White and the Seven Degrees #MakeAMovieCold@midnight:-)\"\n",
    "tokenizer = TweetTokenizer()\n",
    "print(tokenizer.tokenize(tweet.lower()))"
   ]
  },
  {
   "cell_type": "code",
   "execution_count": 21,
   "metadata": {},
   "outputs": [
    {
     "name": "stdout",
     "output_type": "stream",
     "text": [
      "[['mary', ',', \"n't\"], [',', \"n't\", 'slap'], [\"n't\", 'slap', 'green'], ['slap', 'green', 'witch'], ['green', 'witch', '.']]\n"
     ]
    }
   ],
   "source": [
    "def n_grams(text, n):\n",
    "    # 将数据分段，然后组成新的数组最后一并返回\n",
    "    return [text[i : i+n] for i in range(len(text)-n+1)]\n",
    "cleaned = ['mary', ',', \"n't\", 'slap', 'green', 'witch', '.']\n",
    "print(n_grams(cleaned, 3))"
   ]
  },
  {
   "cell_type": "code",
   "execution_count": 32,
   "metadata": {},
   "outputs": [],
   "source": [
    "def n_grams(text, n):\n",
    "    list = [[0]*n]*(len(text)-n+1)\n",
    "    for i in range(len(text)-n+1):\n",
    "        list[i] = text[i:i+n]\n",
    "    return list"
   ]
  },
  {
   "cell_type": "code",
   "execution_count": 36,
   "metadata": {},
   "outputs": [
    {
     "name": "stdout",
     "output_type": "stream",
     "text": [
      "[['mary', ',', \"n't\"], [',', \"n't\", 'slap'], [\"n't\", 'slap', 'green'], ['slap', 'green', 'witch'], ['green', 'witch', '.']]\n"
     ]
    }
   ],
   "source": [
    "tupe = n_grams(cleaned, 3)\n",
    "print(tupe)"
   ]
  },
  {
   "cell_type": "code",
   "execution_count": 39,
   "metadata": {},
   "outputs": [
    {
     "name": "stdout",
     "output_type": "stream",
     "text": [
      "['mary', ',', \"n't\"] [',', \"n't\", 'slap']\n"
     ]
    }
   ],
   "source": [
    "print(tupe[0], tupe[1])"
   ]
  },
  {
   "cell_type": "code",
   "execution_count": 43,
   "metadata": {},
   "outputs": [
    {
     "name": "stdout",
     "output_type": "stream",
     "text": [
      "he --->-PRON-\n",
      "was --->be\n",
      "running --->run\n",
      "late --->late\n",
      "hello --->hello\n"
     ]
    }
   ],
   "source": [
    "# 将 单词规约到 词的根源形式\n",
    "doc = nlp(u\"he was running late hello\")\n",
    "for token in doc:\n",
    "    print('{} --->{}'.format(token, token.lemma_))"
   ]
  },
  {
   "cell_type": "code",
   "execution_count": 48,
   "metadata": {},
   "outputs": [
    {
     "name": "stdout",
     "output_type": "stream",
     "text": [
      "mary=======>NOUN\n",
      "slapped=======>VERB\n",
      "the=======>DET\n",
      "green=======>ADJ\n",
      "witch=======>NOUN\n",
      ".=======>PUNCT\n"
     ]
    }
   ],
   "source": [
    "# 单词 词性划分 名词 动词 介词 形容词 句号 等等\n",
    "doc = nlp(u\"mary slapped the green witch.\")\n",
    "for token in doc:\n",
    "    print('{}=======>{}'.format(token, token.pos_))"
   ]
  },
  {
   "cell_type": "code",
   "execution_count": 49,
   "metadata": {},
   "outputs": [
    {
     "name": "stdout",
     "output_type": "stream",
     "text": [
      "mary=======>NP\n",
      "the green witch=======>NP\n"
     ]
    }
   ],
   "source": [
    "for chunk in doc.noun_chunks:\n",
    "    print('{}=======>{}'.format(chunk, chunk.label_))"
   ]
  },
  {
   "cell_type": "code",
   "execution_count": null,
   "metadata": {},
   "outputs": [],
   "source": []
  }
 ],
 "metadata": {
  "kernelspec": {
   "display_name": "Python 3",
   "language": "python",
   "name": "python3"
  },
  "language_info": {
   "codemirror_mode": {
    "name": "ipython",
    "version": 3
   },
   "file_extension": ".py",
   "mimetype": "text/x-python",
   "name": "python",
   "nbconvert_exporter": "python",
   "pygments_lexer": "ipython3",
   "version": "3.6.9"
  }
 },
 "nbformat": 4,
 "nbformat_minor": 2
}
