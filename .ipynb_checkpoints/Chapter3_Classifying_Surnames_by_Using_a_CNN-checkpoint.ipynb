{
 "cells": [
  {
   "cell_type": "code",
   "execution_count": 1,
   "metadata": {},
   "outputs": [],
   "source": [
    "import torch.nn as nn\n",
    "import torch.nn.functional as F"
   ]
  },
  {
   "cell_type": "code",
   "execution_count": null,
   "metadata": {},
   "outputs": [],
   "source": [
    "# 构建分类器\n",
    "class SurnameClassifier(nn.Module):\n",
    "    # 初始化，构建各层模型初值\n",
    "    def __init__(self, initial_num_channels, num_classes, num_channels):\n",
    "        super(SurnameClassifier, self).__init__()\n",
    "        self.convent = nn.Sequential(\n",
    "            nn.Conv1d(in_channels = initial_num_channels,\n",
    "                     out_channels = num_channels, kernel_size = 3),\n",
    "            nn.ELU(),\n",
    "            nn.Conv1d(in_channels = num_channels, out_channels = num_channels,\n",
    "                     kernel_size = 3, stride = 2),\n",
    "            nn.ELU(),\n",
    "            nn.Conv1d(in_channels = num_channels, out_channels = num_channels,\n",
    "                     kernel_size = 3),\n",
    "            nn.ELU()\n",
    "        )\n",
    "        self.fc = nn.linear(num_channels, num_classes)\n",
    "    # 前向传播\n",
    "    def forward(self, x_surname, apply_softmax = False):\n",
    "        # 默认 不调用softmax\n",
    "        features = self.convent(x_surname).squeeze(dim=2)\n",
    "        prediction_vector = self.fc(features)\n",
    "        if apply_softmax:\n",
    "            prediction_vector = F.softmax(prediction_vector, dim = 1)\n",
    "        return prediction_vector"
   ]
  },
  {
   "cell_type": "code",
   "execution_count": null,
   "metadata": {},
   "outputs": [],
   "source": [
    "# 原始数据 预处理\n",
    "class SurnnameDataSet(Dataset):\n",
    "    def __getitem__(self, index):\n",
    "        row = self.target_df.iloc[index]\n",
    "        surname_matrix = \n",
    "            self.vectorizer.vectorize(row.surname, self._max_seq_length)\n",
    "        nationality_index = \n",
    "            self.vectorizer.nationality_vocab.lookup_token(row.nationality)\n",
    "        return {'x_surname': surname_matrix,\n",
    "                'y_natinoality': nationality_index}\n"
   ]
  },
  {
   "cell_type": "code",
   "execution_count": null,
   "metadata": {},
   "outputs": [],
   "source": [
    "# 数据 向量化\n",
    "class SurnameVectorizer(object):\n",
    "    def vectorize(self, surname):\n",
    "        one_hot_matrix_size = (len(self.character_vocab), self.max_surname_length)\n",
    "        one_hot_martix = np.zeros(one_hot_matrix_size, dtype = np.float32)\n",
    "        \n",
    "        for position_index, character in enumerate(surname):\n",
    "            character_index = self.character_vocab.lookup_token(character)\n",
    "            one_hot_matrix[character_index][position_index] = 1\n",
    "        return one_hot_matrix\n",
    "    def from_dataframe(cls, surname_df):\n",
    "        character_vocab = Vocabulary(unk_token=\"@\")\n",
    "        nationality_vocab = Vocabulary(add_unk = False)\n",
    "        max_surname_length = 0\n",
    "        for index, row in surname_df.iterrows():\n",
    "            max_surname_length = max(max_surname_length, len(row.surname))\n",
    "            for letter in row.surname:\n",
    "                character_vocab.add_token(letter)\n",
    "            nationality_vocab.add_token(row.nationality)\n",
    "        \n",
    "        return cls(character_vocab, nationality_vacab, max_surname_length)"
   ]
  },
  {
   "cell_type": "code",
   "execution_count": null,
   "metadata": {},
   "outputs": [],
   "source": [
    "# 模型设置\n",
    "args = Namespace(\n",
    "    surname_csv = \"surnames_with_splits.csv\",\n",
    "    vectorizer_file = \"vectorizer.json\",\n",
    "    model_state_file = \"model.pth\",\n",
    "    save_dir = \"model_storage/ch4/cnn\",\n",
    "    hidden_dim = 100,\n",
    "    num_channels = 256,\n",
    "    seed = 1337,\n",
    "    learning_rate = 0.001,\n",
    "    batch_size = 128,\n",
    "    num_epochs = 100,\n",
    "    early_stopping_criteria = 5,\n",
    "    dropout_p = 0.1\n",
    ")"
   ]
  },
  {
   "cell_type": "code",
   "execution_count": null,
   "metadata": {},
   "outputs": [],
   "source": [
    "# 预测\n",
    "def predict_nationality(surname, classifier, vectorizer):\n",
    "    vectorized_surname = vectorizer.vectorize(surname)\n",
    "    vectorized_surname = torch.tensor(vectorized_surname).unsqueeze(0)\n",
    "    result = classifier(vectorized_surname, apply_softmax = True)\n",
    "    \n",
    "    probability_values, indices = result.max(dim = 1)\n",
    "    index = indices.item()\n",
    "    \n",
    "    predicted_nationality = vectorizer.nationality_vocab.lookup_index(index)\n",
    "    probability_value = probability_values.item()\n",
    "    return {'nationality': predicted_nationalitym\n",
    "           'probability': probability_value}"
   ]
  }
 ],
 "metadata": {
  "kernelspec": {
   "display_name": "Python 3",
   "language": "python",
   "name": "python3"
  },
  "language_info": {
   "codemirror_mode": {
    "name": "ipython",
    "version": 3
   },
   "file_extension": ".py",
   "mimetype": "text/x-python",
   "name": "python",
   "nbconvert_exporter": "python",
   "pygments_lexer": "ipython3",
   "version": "3.6.9"
  }
 },
 "nbformat": 4,
 "nbformat_minor": 2
}
