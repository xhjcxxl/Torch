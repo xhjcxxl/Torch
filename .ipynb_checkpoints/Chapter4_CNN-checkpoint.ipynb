{
 "cells": [
  {
   "cell_type": "code",
   "execution_count": 3,
   "metadata": {},
   "outputs": [],
   "source": [
    "import torch\n",
    "import torch.nn as nn"
   ]
  },
  {
   "cell_type": "code",
   "execution_count": 4,
   "metadata": {},
   "outputs": [
    {
     "name": "stdout",
     "output_type": "stream",
     "text": [
      "torch.Size([2, 10, 7])\n",
      "torch.Size([2, 16, 5])\n"
     ]
    }
   ],
   "source": [
    "batch_size = 2\n",
    "one_hot_size = 10\n",
    "sequence_width = 7\n",
    "# 输入数据\n",
    "data = torch.randn(batch_size, one_hot_size, sequence_width)\n",
    "# 定义第一层卷积\n",
    "conv1 = nn.Conv1d(in_channels = one_hot_size, out_channels = 16, kernel_size = 3)\n",
    "# 调用 数据 进行第一层运算\n",
    "intermediate1 = conv1(data)\n",
    "print(data.size())\n",
    "print(intermediate1.size())"
   ]
  },
  {
   "cell_type": "code",
   "execution_count": 9,
   "metadata": {},
   "outputs": [
    {
     "name": "stdout",
     "output_type": "stream",
     "text": [
      "torch.Size([2, 32, 3])\n",
      "torch.Size([2, 64, 1])\n",
      "torch.Size([2, 64])\n",
      "tensor([[-0.1724, -0.0222, -0.2213,  0.2471,  0.0793,  0.1570, -0.1020, -0.1961,\n",
      "          0.0486,  0.0861, -0.2880, -0.3593,  0.1408,  0.0316, -0.3425, -0.2663,\n",
      "          0.1665, -0.1775,  0.3348,  0.1333,  0.3216, -0.1502,  0.0383, -0.1000,\n",
      "          0.0167,  0.0854, -0.0191,  0.4835,  0.5984, -0.3936,  0.2890,  0.1400,\n",
      "          0.4342, -0.3171, -0.4034,  0.1224, -0.0123,  0.0505,  0.0824, -0.0906,\n",
      "         -0.1206, -0.7138,  0.1141,  0.1793,  0.1790, -0.1745, -0.2232, -0.4503,\n",
      "         -0.1597,  0.0831,  0.4660,  0.2648, -0.2535,  0.0937, -0.2452,  0.1902,\n",
      "         -0.4344, -0.1129, -0.3309,  0.0406, -0.0399, -0.0938, -0.1517,  0.2572],\n",
      "        [ 0.0336, -0.0219, -0.0074,  0.1079,  0.1728, -0.0496, -0.0626, -0.2324,\n",
      "         -0.0092, -0.0153,  0.2079,  0.1564,  0.0759, -0.0878, -0.3340, -0.0412,\n",
      "         -0.0200, -0.0967,  0.3673, -0.2807, -0.1077,  0.0188, -0.1752,  0.1930,\n",
      "          0.0709,  0.2443,  0.1391,  0.1938, -0.0167, -0.0258, -0.0294,  0.2230,\n",
      "          0.3872,  0.1595, -0.4936,  0.1023,  0.1587,  0.0928, -0.1561,  0.0034,\n",
      "         -0.3269,  0.3108, -0.2032,  0.0212,  0.1495,  0.3234, -0.1269,  0.2724,\n",
      "         -0.1057, -0.1267,  0.0431, -0.0610,  0.1837,  0.0626, -0.3270, -0.2076,\n",
      "         -0.1792, -0.3459,  0.1434, -0.0059,  0.1034, -0.0245, -0.0770,  0.1366]],\n",
      "       grad_fn=<SqueezeBackward0>)\n"
     ]
    }
   ],
   "source": [
    "# 定义第二层卷积\n",
    "conv2 = nn.Conv1d(in_channels = 16, out_channels = 32, kernel_size = 3)\n",
    "# 定义第三层卷积\n",
    "conv3 = nn.Conv1d(in_channels = 32, out_channels = 64, kernel_size = 3)\n",
    "# 调用数据 各层数据 进行运算\n",
    "# data -> intermediate1\n",
    "# intermediate1 -> intermediate2\n",
    "# intermediate2 - > intermediate3\n",
    "\n",
    "intermediate2 = conv2(intermediate1)\n",
    "intermediate3 = conv3(intermediate2)\n",
    "print(intermediate2.size())\n",
    "print(intermediate3.size())\n",
    "# 输出结果\n",
    "y_output = intermediate3.squeeze()\n",
    "print(y_output.size())\n",
    "print(y_output)"
   ]
  },
  {
   "cell_type": "code",
   "execution_count": null,
   "metadata": {},
   "outputs": [],
   "source": []
  }
 ],
 "metadata": {
  "kernelspec": {
   "display_name": "Python 3",
   "language": "python",
   "name": "python3"
  },
  "language_info": {
   "codemirror_mode": {
    "name": "ipython",
    "version": 3
   },
   "file_extension": ".py",
   "mimetype": "text/x-python",
   "name": "python",
   "nbconvert_exporter": "python",
   "pygments_lexer": "ipython3",
   "version": "3.6.9"
  }
 },
 "nbformat": 4,
 "nbformat_minor": 2
}
